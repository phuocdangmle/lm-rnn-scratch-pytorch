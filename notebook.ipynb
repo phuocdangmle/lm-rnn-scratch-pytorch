{
 "cells": [
  {
   "cell_type": "code",
   "execution_count": 8,
   "metadata": {},
   "outputs": [],
   "source": [
    "sentences = []\n",
    "with open('data/.txt', 'r', encoding='utf-8-sig') as file:\n",
    "    for line in file:\n",
    "        if line.find('xxxxxEndxxxxx') != -1:\n",
    "            continue\n",
    "        else:\n",
    "            sentences.append(line)"
   ]
  },
  {
   "cell_type": "code",
   "execution_count": 10,
   "metadata": {},
   "outputs": [],
   "source": [
    "with open('data/train.txt', 'w', encoding='utf-8-sig') as file:\n",
    "    for sentence in sentences:\n",
    "        file.write(sentence)"
   ]
  },
  {
   "cell_type": "code",
   "execution_count": 11,
   "metadata": {},
   "outputs": [],
   "source": [
    "sentences = []\n",
    "with open('data/.txt', 'r', encoding='utf-8-sig') as file:\n",
    "    for line in file:\n",
    "        if line.find('xxxxxEndxxxxx') != -1:\n",
    "            continue\n",
    "        else:\n",
    "            sentences.append(line)"
   ]
  },
  {
   "cell_type": "code",
   "execution_count": 12,
   "metadata": {},
   "outputs": [],
   "source": [
    "with open('data/test.txt', 'w', encoding='utf-8-sig') as file:\n",
    "    for sentence in sentences:\n",
    "        file.write(sentence)"
   ]
  },
  {
   "cell_type": "code",
   "execution_count": null,
   "metadata": {},
   "outputs": [],
   "source": []
  }
 ],
 "metadata": {
  "kernelspec": {
   "display_name": "py311",
   "language": "python",
   "name": "python3"
  },
  "language_info": {
   "codemirror_mode": {
    "name": "ipython",
    "version": 3
   },
   "file_extension": ".py",
   "mimetype": "text/x-python",
   "name": "python",
   "nbconvert_exporter": "python",
   "pygments_lexer": "ipython3",
   "version": "3.11.3"
  },
  "orig_nbformat": 4
 },
 "nbformat": 4,
 "nbformat_minor": 2
}
